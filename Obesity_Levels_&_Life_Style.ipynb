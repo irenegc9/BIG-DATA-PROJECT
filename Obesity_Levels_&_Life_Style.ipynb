{
  "cells": [
    {
      "source": [
        "# IMPORTANT: RUN THIS CELL IN ORDER TO IMPORT YOUR KAGGLE DATA SOURCES,\n",
        "# THEN FEEL FREE TO DELETE THIS CELL.\n",
        "# NOTE: THIS NOTEBOOK ENVIRONMENT DIFFERS FROM KAGGLE'S PYTHON\n",
        "# ENVIRONMENT SO THERE MAY BE MISSING LIBRARIES USED BY YOUR\n",
        "# NOTEBOOK.\n",
        "import kagglehub\n",
        "ankurbajaj9_obesity_levels_path = kagglehub.dataset_download('ankurbajaj9/obesity-levels')\n",
        "\n",
        "print('Data source import complete.')\n"
      ],
      "metadata": {
        "id": "zLKmOpAI2lO5"
      },
      "cell_type": "code",
      "outputs": [],
      "execution_count": null
    },
    {
      "metadata": {
        "id": "G3VtNuI82lO6"
      },
      "cell_type": "markdown",
      "source": [
        "#Dataset for estimation of obesity levels based on eating habits and physical condition in individuals from Colombia, Peru and Mexico\n",
        "\n",
        "Authors: Fabio MendozaPalechor;; Alexis de la HozManotas https://doi.org/10.1016/j.dib.2019.104344\n",
        "\n",
        "This paper presents data for the estimation of obesity levels in individuals from the countries of Mexico, Peru and Colombia, based on their eating habits and physical condition. The data contains 17 attributes and 2111 records, the records are labeled with the class variable NObesity (Obesity Level), that allows classification of the data using the values of Insufficient Weight, Normal Weight, Overweight Level I, Overweight Level II, Obesity Type I, Obesity Type II and Obesity Type III.\n",
        "\n",
        "77% of the data was generated synthetically using the Weka tool and the SMOTE filter, 23% of the data was collected directly from users through a web platform. This data can be used to generate intelligent computational tools to identify the obesity level of an individual and to build recommender systems that monitor obesity levels. For discussion and more information of the dataset creation, please refer to the full-length article “Obesity Level Estimation Software based on Decision Trees” https://www.sciencedirect.com/science/article/pii/S2352340919306985"
      ]
    },
    {
      "metadata": {
        "_uuid": "8f2839f25d086af736a60e9eeb907d3b93b6e0e5",
        "_cell_guid": "b1076dfc-b9ad-4769-8c92-a6c4dae69d19",
        "trusted": true,
        "_kg_hide-output": true,
        "id": "gRi-17Xe2lO9"
      },
      "cell_type": "code",
      "source": [
        "# This Python 3 environment comes with many helpful analytics libraries installed\n",
        "# It is defined by the kaggle/python Docker image: https://github.com/kaggle/docker-python\n",
        "# For example, here's several helpful packages to load\n",
        "\n",
        "import numpy as np # linear algebra\n",
        "import pandas as pd # data processing, CSV file I/O (e.g. pd.read_csv)\n",
        "import matplotlib.pyplot as plt\n",
        "import seaborn as sns\n",
        "import plotly.offline as py\n",
        "import plotly.graph_objs as go\n",
        "import plotly.offline as py\n",
        "import plotly.express as px\n",
        "\n",
        "# Input data files are available in the read-only \"../input/\" directory\n",
        "# For example, running this (by clicking run or pressing Shift+Enter) will list all files under the input directory\n",
        "\n",
        "import os\n",
        "for dirname, _, filenames in os.walk('/kaggle/input'):\n",
        "    for filename in filenames:\n",
        "        print(os.path.join(dirname, filename))\n",
        "\n",
        "# You can write up to 5GB to the current directory (/kaggle/working/) that gets preserved as output when you create a version using \"Save & Run All\"\n",
        "# You can also write temporary files to /kaggle/temp/, but they won't be saved outside of the current session"
      ],
      "execution_count": null,
      "outputs": []
    },
    {
      "metadata": {
        "id": "FtGqdkPU2lO_"
      },
      "cell_type": "markdown",
      "source": [
        "#Attributes related with eating habits are:\n",
        "\n",
        "Frequent consumption of high caloric food (FAVC),\n",
        "\n",
        "Frequency of consumption of vegetables (FCVC),\n",
        "\n",
        "Number of main meals (NCP),\n",
        "\n",
        "Consumption of food between meals (CAEC),\n",
        "\n",
        "Consumption of water daily (CH20),\n",
        "\n",
        "and Consumption of alcohol (CALC).\n",
        "\n",
        "#Attributes related with the physical condition are:\n",
        "\n",
        "Calories consumption monitoring (SCC),\n",
        "\n",
        "Physical activity frequency (FAF),\n",
        "\n",
        "Time using technology devices (TUE),\n",
        "\n",
        "Transportation used (MTRANS),\n",
        "\n",
        "#Other variables were:\n",
        "\n",
        "Gender, Age, Height and Weight.\n",
        "\n",
        "Finally, all data was labeled and the class variable NObesity was created with the values of: Insufficient Weight, Normal Weight, Overweight Level I, Overweight Level II, Obesity Type I, Obesity Type II and Obesity Type III, based on Equation (1) and information from WHO and Mexican Normativity.\n",
        "\n",
        "The data contains numerical data and continous data, so it can be used for analysis based on algorithms of classification, prediction, segmentation and association. Data is available in CSV format and ARFF format to be used with the Weka tool.https://www.sciencedirect.com/science/article/pii/S2352340919306985"
      ]
    },
    {
      "metadata": {
        "_uuid": "d629ff2d2480ee46fbb7e2d37f6b5fab8052498a",
        "_cell_guid": "79c7e3d0-c299-4dcb-8224-4455121ee9b0",
        "trusted": true,
        "_kg_hide-input": true,
        "id": "k1LxFx352lPA"
      },
      "cell_type": "code",
      "source": [
        "df = pd.read_csv('../input/obesity-levels/ObesityDataSet_raw_and_data_sinthetic.csv', encoding='ISO-8859-2')\n",
        "df.head()"
      ],
      "execution_count": null,
      "outputs": []
    },
    {
      "metadata": {
        "id": "5xyLSizA2lPA"
      },
      "cell_type": "markdown",
      "source": [
        "#Spoiler Alert:No Missing Values."
      ]
    },
    {
      "metadata": {
        "_kg_hide-output": true,
        "trusted": true,
        "id": "KoQh3lTU2lPB"
      },
      "cell_type": "code",
      "source": [
        "print(f\"data shape: {df.shape}\")"
      ],
      "execution_count": null,
      "outputs": []
    },
    {
      "metadata": {
        "trusted": true,
        "id": "JMICk7KQ2lPB"
      },
      "cell_type": "code",
      "source": [
        "df.describe()"
      ],
      "execution_count": null,
      "outputs": []
    },
    {
      "metadata": {
        "trusted": true,
        "id": "kEzKq2MW2lPC"
      },
      "cell_type": "code",
      "source": [
        "plt.figure(figsize=(20,4))\n",
        "plt.subplot(131)\n",
        "sns.countplot(x= 'Age', data = df, palette=\"GnBu_d\",edgecolor=\"black\")\n",
        "plt.subplot(132)\n",
        "sns.countplot(x= 'Height', data = df, palette=\"flag\",edgecolor=\"black\")\n",
        "plt.subplot(133)\n",
        "sns.countplot(x= 'Weight', data = df, palette=\"Greens_r\",edgecolor=\"black\")\n",
        "plt.show()"
      ],
      "execution_count": null,
      "outputs": []
    },
    {
      "metadata": {
        "trusted": true,
        "id": "KwoghpPt2lPC"
      },
      "cell_type": "code",
      "source": [
        "#Codes from Gabriel Preda\n",
        "\n",
        "def plot_count(feature, title, df, size=1):\n",
        "    f, ax = plt.subplots(1,1, figsize=(4*size,4))\n",
        "    total = float(len(df))\n",
        "    g = sns.countplot(df[feature], order = df[feature].value_counts().index[:20], palette='Set3')\n",
        "    g.set_title(\"Number and percentage of {}\".format(title))\n",
        "    if(size > 2):\n",
        "        plt.xticks(rotation=90, size=8)\n",
        "    for p in ax.patches:\n",
        "        height = p.get_height()\n",
        "        ax.text(p.get_x()+p.get_width()/2.,\n",
        "                height + 3,\n",
        "                '{:1.2f}%'.format(100*height/total),\n",
        "                ha=\"center\")\n",
        "    plt.show()"
      ],
      "execution_count": null,
      "outputs": []
    },
    {
      "metadata": {
        "trusted": true,
        "id": "9gGNYiZU2lPD"
      },
      "cell_type": "code",
      "source": [
        "plot_count(\"Weight\", \"Weight\", df,4)"
      ],
      "execution_count": null,
      "outputs": []
    },
    {
      "metadata": {
        "id": "57DBelkn2lPD"
      },
      "cell_type": "markdown",
      "source": [
        "#Univariate analysis"
      ]
    },
    {
      "metadata": {
        "trusted": true,
        "id": "Cmj4QWDi2lPD"
      },
      "cell_type": "code",
      "source": [
        "plt.figure(figsize=(20,4))\n",
        "plt.subplot(131)\n",
        "sns.countplot(x= 'family_history_with_overweight', data = df, palette=\"GnBu_d\",edgecolor=\"black\")\n",
        "plt.subplot(132)\n",
        "sns.countplot(x= 'MTRANS', data = df, palette=\"flag\",edgecolor=\"black\")\n",
        "plt.xticks(rotation=45)\n",
        "plt.subplot(133)\n",
        "sns.countplot(x= 'CALC', data = df, palette=\"Greens_r\",edgecolor=\"black\")\n",
        "plt.xticks(rotation=45)\n",
        "plt.show()"
      ],
      "execution_count": null,
      "outputs": []
    },
    {
      "metadata": {
        "trusted": true,
        "id": "gUnYAKgV2lPE"
      },
      "cell_type": "code",
      "source": [
        "sns.countplot(x=\"NObeyesdad\",data=df,palette=\"flag\",edgecolor=\"black\")\n",
        "plt.title('NObeyesdad', weight='bold')\n",
        "plt.xticks(rotation=45)\n",
        "plt.yticks(rotation=45)\n",
        "# changing the font size\n",
        "sns.set(font_scale=1)"
      ],
      "execution_count": null,
      "outputs": []
    },
    {
      "metadata": {
        "id": "xmn9UiVC2lPE"
      },
      "cell_type": "markdown",
      "source": [
        "#Bivariate analysis"
      ]
    },
    {
      "metadata": {
        "trusted": true,
        "id": "difIYBhP2lPE"
      },
      "cell_type": "code",
      "source": [
        "plt.figure(figsize=(16, 4))\n",
        "plt.subplot(121)\n",
        "sns.boxplot(x = 'Weight', y = 'SCC', data = df)\n",
        "plt.subplot(122)\n",
        "sns.boxplot(x = 'Weight', y = 'CAEC', data = df)\n",
        "plt.show()"
      ],
      "execution_count": null,
      "outputs": []
    },
    {
      "metadata": {
        "trusted": true,
        "id": "HgU9sKAZ2lPE"
      },
      "cell_type": "code",
      "source": [
        "# Distribution of different type of amount\n",
        "fig , ax = plt.subplots(1,3,figsize = (12,5))\n",
        "\n",
        "Age = df.Age.values\n",
        "Height= df.Height.values\n",
        "Weight = df.Weight.values\n",
        "\n",
        "sns.distplot(Age , ax = ax[0] , color = 'pink').set_title('Obesity Levels & Age' , fontsize = 14)\n",
        "sns.distplot(Height , ax = ax[1] , color = 'cyan').set_title('Obesity Levels & Height' , fontsize = 14)\n",
        "sns.distplot(Weight , ax = ax[2] , color = 'purple').set_title('Obesity Levels & Weight' , fontsize = 14)\n",
        "\n",
        "\n",
        "plt.show()"
      ],
      "execution_count": null,
      "outputs": []
    },
    {
      "metadata": {
        "trusted": true,
        "_kg_hide-input": true,
        "id": "o1nHbN4C2lPF"
      },
      "cell_type": "code",
      "source": [
        "import plotly.express as px\n",
        "fig = px.line(df, x=\"Weight\", y=\"TUE\", color_discrete_sequence=['darksalmon'],\n",
        "              title=\"Obesity Levels and the Use of Technology\")\n",
        "fig.show()"
      ],
      "execution_count": null,
      "outputs": []
    },
    {
      "metadata": {
        "id": "BVrtZAZT2lPF"
      },
      "cell_type": "markdown",
      "source": [
        "I tried to make a Decision Tree Graphviz. It didn't work, then I gave up."
      ]
    },
    {
      "metadata": {
        "id": "Y8JUkQCI2lPF"
      },
      "cell_type": "markdown",
      "source": [
        "Das War's Kaggle Notebook Runner: Marília Prata  @mpwolke"
      ]
    }
  ],
  "metadata": {
    "kernelspec": {
      "language": "python",
      "display_name": "Python 3",
      "name": "python3"
    },
    "language_info": {
      "pygments_lexer": "ipython3",
      "nbconvert_exporter": "python",
      "version": "3.6.4",
      "file_extension": ".py",
      "codemirror_mode": {
        "name": "ipython",
        "version": 3
      },
      "name": "python",
      "mimetype": "text/x-python"
    },
    "colab": {
      "name": "Obesity Levels & Life Style",
      "provenance": []
    }
  },
  "nbformat": 4,
  "nbformat_minor": 0
}